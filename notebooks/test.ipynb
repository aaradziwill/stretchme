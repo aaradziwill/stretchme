{
 "cells": [
  {
   "cell_type": "code",
   "execution_count": 1,
   "outputs": [
    {
     "name": "stdout",
     "output_type": "stream",
     "text": [
      "torch version: 1.12.1 False\n",
      "torchvision version: 0.13.1\n",
      "mmpose version: 0.20.0\n"
     ]
    }
   ],
   "source": [
    "# Check Pytorch installation\n",
    "import torch, torchvision\n",
    "print('torch version:', torch.__version__, torch.cuda.is_available())\n",
    "print('torchvision version:', torchvision.__version__)\n",
    "\n",
    "# Check MMPose installation\n",
    "import mmpose\n",
    "print('mmpose version:', mmpose.__version__)"
   ],
   "metadata": {
    "collapsed": false,
    "pycharm": {
     "name": "#%%\n"
    }
   }
  },
  {
   "cell_type": "code",
   "execution_count": 2,
   "metadata": {
    "collapsed": true,
    "pycharm": {
     "name": "#%%\n"
    }
   },
   "outputs": [
    {
     "name": "stdout",
     "output_type": "stream",
     "text": [
      "cuda version: not available\n",
      "compiler information: clang 12.0.5\n"
     ]
    }
   ],
   "source": [
    "# Check mmcv installation\n",
    "from mmcv.ops import get_compiling_cuda_version, get_compiler_version\n",
    "print('cuda version:', get_compiling_cuda_version())\n",
    "print('compiler information:', get_compiler_version())"
   ]
  },
  {
   "cell_type": "code",
   "execution_count": 7,
   "outputs": [
    {
     "name": "stdout",
     "output_type": "stream",
     "text": [
      "/Users/aleksandraradziwill/Documents/stretchme/stretchme\n"
     ]
    }
   ],
   "source": [
    "%cd ../mmpose"
   ],
   "metadata": {
    "collapsed": false,
    "pycharm": {
     "name": "#%%\n"
    }
   }
  },
  {
   "cell_type": "code",
   "execution_count": 14,
   "outputs": [
    {
     "name": "stdout",
     "output_type": "stream",
     "text": [
      "Ignoring dataclasses: markers 'python_version == \"3.6\"' don't match your environment\r\n",
      "Collecting poseval@ git+https://github.com/svenkreiss/poseval.git\r\n",
      "  Cloning https://github.com/svenkreiss/poseval.git to /private/var/folders/k8/_v7pvhtn529ghxr64q_67hxw0000gn/T/pip-install-44957q2a/poseval_28617d2d92514d8494f778faf933e97e\r\n",
      "  Running command git clone --filter=blob:none --quiet https://github.com/svenkreiss/poseval.git /private/var/folders/k8/_v7pvhtn529ghxr64q_67hxw0000gn/T/pip-install-44957q2a/poseval_28617d2d92514d8494f778faf933e97e\r\n",
      "  Resolved https://github.com/svenkreiss/poseval.git to commit 3128c5cbcf90946e5164ff438ad651e113e64613\r\n",
      "  Running command git submodule update --init --recursive -q\r\n",
      "  Preparing metadata (setup.py) ... \u001B[?25ldone\r\n",
      "\u001B[?25hRequirement already satisfied: numpy in /Users/aleksandraradziwill/Library/Caches/pypoetry/virtualenvs/stretchme-8i33Dz8s-py3.9/lib/python3.9/site-packages (from -r requirements/build.txt (line 2)) (1.23.1)\r\n",
      "Requirement already satisfied: torch>=1.3 in /Users/aleksandraradziwill/Library/Caches/pypoetry/virtualenvs/stretchme-8i33Dz8s-py3.9/lib/python3.9/site-packages (from -r requirements/build.txt (line 3)) (1.12.1)\r\n",
      "Requirement already satisfied: chumpy in /Users/aleksandraradziwill/Library/Caches/pypoetry/virtualenvs/stretchme-8i33Dz8s-py3.9/lib/python3.9/site-packages (from -r requirements/runtime.txt (line 1)) (0.70)\r\n",
      "Requirement already satisfied: json_tricks in /Users/aleksandraradziwill/Library/Caches/pypoetry/virtualenvs/stretchme-8i33Dz8s-py3.9/lib/python3.9/site-packages (from -r requirements/runtime.txt (line 3)) (3.15.5)\r\n",
      "Requirement already satisfied: matplotlib in /Users/aleksandraradziwill/Library/Caches/pypoetry/virtualenvs/stretchme-8i33Dz8s-py3.9/lib/python3.9/site-packages (from -r requirements/runtime.txt (line 4)) (3.5.2)\r\n",
      "Requirement already satisfied: munkres in /Users/aleksandraradziwill/Library/Caches/pypoetry/virtualenvs/stretchme-8i33Dz8s-py3.9/lib/python3.9/site-packages (from -r requirements/runtime.txt (line 5)) (1.1.4)\r\n",
      "Requirement already satisfied: opencv-python in /Users/aleksandraradziwill/Library/Caches/pypoetry/virtualenvs/stretchme-8i33Dz8s-py3.9/lib/python3.9/site-packages (from -r requirements/runtime.txt (line 7)) (4.6.0.66)\r\n",
      "Requirement already satisfied: pillow in /Users/aleksandraradziwill/Library/Caches/pypoetry/virtualenvs/stretchme-8i33Dz8s-py3.9/lib/python3.9/site-packages (from -r requirements/runtime.txt (line 8)) (9.2.0)\r\n",
      "Requirement already satisfied: scipy in /Users/aleksandraradziwill/Library/Caches/pypoetry/virtualenvs/stretchme-8i33Dz8s-py3.9/lib/python3.9/site-packages (from -r requirements/runtime.txt (line 9)) (1.6.1)\r\n",
      "Requirement already satisfied: torchvision in /Users/aleksandraradziwill/Library/Caches/pypoetry/virtualenvs/stretchme-8i33Dz8s-py3.9/lib/python3.9/site-packages (from -r requirements/runtime.txt (line 10)) (0.13.1)\r\n",
      "Requirement already satisfied: xtcocotools>=1.12 in /Users/aleksandraradziwill/Library/Caches/pypoetry/virtualenvs/stretchme-8i33Dz8s-py3.9/lib/python3.9/site-packages (from -r requirements/runtime.txt (line 11)) (1.12)\r\n",
      "Collecting coverage\r\n",
      "  Downloading coverage-6.4.4-cp39-cp39-macosx_10_9_x86_64.whl (184 kB)\r\n",
      "\u001B[2K     \u001B[90m━━━━━━━━━━━━━━━━━━━━━━━━━━━━━━━━━━━━━━━\u001B[0m \u001B[32m184.5/184.5 kB\u001B[0m \u001B[31m1.8 MB/s\u001B[0m eta \u001B[36m0:00:00\u001B[0ma \u001B[36m0:00:01\u001B[0m\r\n",
      "\u001B[?25hCollecting flake8\r\n",
      "  Downloading flake8-5.0.4-py2.py3-none-any.whl (61 kB)\r\n",
      "\u001B[2K     \u001B[90m━━━━━━━━━━━━━━━━━━━━━━━━━━━━━━━━━━━━━━━━\u001B[0m \u001B[32m61.9/61.9 kB\u001B[0m \u001B[31m4.4 MB/s\u001B[0m eta \u001B[36m0:00:00\u001B[0m\r\n",
      "\u001B[?25hCollecting interrogate\r\n",
      "  Downloading interrogate-1.5.0-py3-none-any.whl (45 kB)\r\n",
      "\u001B[2K     \u001B[90m━━━━━━━━━━━━━━━━━━━━━━━━━━━━━━━━━━━━━━━━\u001B[0m \u001B[32m45.3/45.3 kB\u001B[0m \u001B[31m4.3 MB/s\u001B[0m eta \u001B[36m0:00:00\u001B[0m\r\n",
      "\u001B[?25hCollecting isort==4.3.21\r\n",
      "  Downloading isort-4.3.21-py2.py3-none-any.whl (42 kB)\r\n",
      "\u001B[2K     \u001B[90m━━━━━━━━━━━━━━━━━━━━━━━━━━━━━━━━━━━━━━━━\u001B[0m \u001B[32m42.3/42.3 kB\u001B[0m \u001B[31m3.4 MB/s\u001B[0m eta \u001B[36m0:00:00\u001B[0m\r\n",
      "\u001B[?25hRequirement already satisfied: pytest in /Users/aleksandraradziwill/Library/Caches/pypoetry/virtualenvs/stretchme-8i33Dz8s-py3.9/lib/python3.9/site-packages (from -r requirements/tests.txt (line 5)) (5.4.3)\r\n",
      "Collecting pytest-runner\r\n",
      "  Using cached pytest_runner-6.0.0-py3-none-any.whl (7.2 kB)\r\n",
      "Collecting smplx>=0.1.28\r\n",
      "  Downloading smplx-0.1.28-py3-none-any.whl (29 kB)\r\n",
      "Collecting xdoctest>=0.10.0\r\n",
      "  Downloading xdoctest-1.1.0-py3-none-any.whl (135 kB)\r\n",
      "\u001B[2K     \u001B[90m━━━━━━━━━━━━━━━━━━━━━━━━━━━━━━━━━━━━━━━\u001B[0m \u001B[32m135.8/135.8 kB\u001B[0m \u001B[31m8.3 MB/s\u001B[0m eta \u001B[36m0:00:00\u001B[0m\r\n",
      "\u001B[?25hRequirement already satisfied: yapf in /Users/aleksandraradziwill/Library/Caches/pypoetry/virtualenvs/stretchme-8i33Dz8s-py3.9/lib/python3.9/site-packages (from -r requirements/tests.txt (line 9)) (0.32.0)\r\n",
      "Collecting onnx\r\n",
      "  Downloading onnx-1.12.0-cp39-cp39-macosx_10_12_x86_64.whl (12.4 MB)\r\n",
      "\u001B[2K     \u001B[90m━━━━━━━━━━━━━━━━━━━━━━━━━━━━━━━━━━━━━━━━\u001B[0m \u001B[32m12.4/12.4 MB\u001B[0m \u001B[31m5.4 MB/s\u001B[0m eta \u001B[36m0:00:00\u001B[0m00:01\u001B[0m00:01\u001B[0m\r\n",
      "\u001B[?25hCollecting onnxruntime\r\n",
      "  Downloading onnxruntime-1.12.1-cp39-cp39-macosx_10_15_x86_64.whl (6.0 MB)\r\n",
      "\u001B[2K     \u001B[90m━━━━━━━━━━━━━━━━━━━━━━━━━━━━━━━━━━━━━━━━\u001B[0m \u001B[32m6.0/6.0 MB\u001B[0m \u001B[31m5.9 MB/s\u001B[0m eta \u001B[36m0:00:00\u001B[0m00:01\u001B[0m00:01\u001B[0m\r\n",
      "\u001B[?25hCollecting pyrender\r\n",
      "  Downloading pyrender-0.1.45-py3-none-any.whl (1.2 MB)\r\n",
      "\u001B[2K     \u001B[90m━━━━━━━━━━━━━━━━━━━━━━━━━━━━━━━━━━━━━━━━\u001B[0m \u001B[32m1.2/1.2 MB\u001B[0m \u001B[31m5.7 MB/s\u001B[0m eta \u001B[36m0:00:00\u001B[0m00:01\u001B[0m00:01\u001B[0m\r\n",
      "\u001B[?25hRequirement already satisfied: requests in /Users/aleksandraradziwill/Library/Caches/pypoetry/virtualenvs/stretchme-8i33Dz8s-py3.9/lib/python3.9/site-packages (from -r requirements/optional.txt (line 5)) (2.28.1)\r\n",
      "Collecting trimesh\r\n",
      "  Downloading trimesh-3.15.1-py3-none-any.whl (659 kB)\r\n",
      "\u001B[2K     \u001B[90m━━━━━━━━━━━━━━━━━━━━━━━━━━━━━━━━━━━━━━━\u001B[0m \u001B[32m659.9/659.9 kB\u001B[0m \u001B[31m6.1 MB/s\u001B[0m eta \u001B[36m0:00:00\u001B[0ma \u001B[36m0:00:01\u001B[0m\r\n",
      "\u001B[?25hRequirement already satisfied: typing-extensions in /Users/aleksandraradziwill/Library/Caches/pypoetry/virtualenvs/stretchme-8i33Dz8s-py3.9/lib/python3.9/site-packages (from torch>=1.3->-r requirements/build.txt (line 3)) (4.3.0)\r\n",
      "Requirement already satisfied: six>=1.11.0 in /Users/aleksandraradziwill/Library/Caches/pypoetry/virtualenvs/stretchme-8i33Dz8s-py3.9/lib/python3.9/site-packages (from chumpy->-r requirements/runtime.txt (line 1)) (1.16.0)\r\n",
      "Requirement already satisfied: kiwisolver>=1.0.1 in /Users/aleksandraradziwill/Library/Caches/pypoetry/virtualenvs/stretchme-8i33Dz8s-py3.9/lib/python3.9/site-packages (from matplotlib->-r requirements/runtime.txt (line 4)) (1.4.4)\r\n",
      "Requirement already satisfied: python-dateutil>=2.7 in /Users/aleksandraradziwill/Library/Caches/pypoetry/virtualenvs/stretchme-8i33Dz8s-py3.9/lib/python3.9/site-packages (from matplotlib->-r requirements/runtime.txt (line 4)) (2.8.2)\r\n",
      "Requirement already satisfied: packaging>=20.0 in /Users/aleksandraradziwill/Library/Caches/pypoetry/virtualenvs/stretchme-8i33Dz8s-py3.9/lib/python3.9/site-packages (from matplotlib->-r requirements/runtime.txt (line 4)) (21.3)\r\n",
      "Requirement already satisfied: fonttools>=4.22.0 in /Users/aleksandraradziwill/Library/Caches/pypoetry/virtualenvs/stretchme-8i33Dz8s-py3.9/lib/python3.9/site-packages (from matplotlib->-r requirements/runtime.txt (line 4)) (4.34.4)\r\n",
      "Requirement already satisfied: pyparsing>=2.2.1 in /Users/aleksandraradziwill/Library/Caches/pypoetry/virtualenvs/stretchme-8i33Dz8s-py3.9/lib/python3.9/site-packages (from matplotlib->-r requirements/runtime.txt (line 4)) (3.0.9)\r\n",
      "Requirement already satisfied: cycler>=0.10 in /Users/aleksandraradziwill/Library/Caches/pypoetry/virtualenvs/stretchme-8i33Dz8s-py3.9/lib/python3.9/site-packages (from matplotlib->-r requirements/runtime.txt (line 4)) (0.11.0)\r\n",
      "Requirement already satisfied: cython>=0.27.3 in /Users/aleksandraradziwill/Library/Caches/pypoetry/virtualenvs/stretchme-8i33Dz8s-py3.9/lib/python3.9/site-packages (from xtcocotools>=1.12->-r requirements/runtime.txt (line 11)) (0.29.32)\r\n",
      "Requirement already satisfied: setuptools>=18.0 in /Users/aleksandraradziwill/Library/Caches/pypoetry/virtualenvs/stretchme-8i33Dz8s-py3.9/lib/python3.9/site-packages (from xtcocotools>=1.12->-r requirements/runtime.txt (line 11)) (63.2.0)\r\n",
      "Collecting mccabe<0.8.0,>=0.7.0\r\n",
      "  Downloading mccabe-0.7.0-py2.py3-none-any.whl (7.3 kB)\r\n",
      "Collecting pycodestyle<2.10.0,>=2.9.0\r\n",
      "  Downloading pycodestyle-2.9.1-py2.py3-none-any.whl (41 kB)\r\n",
      "\u001B[2K     \u001B[90m━━━━━━━━━━━━━━━━━━━━━━━━━━━━━━━━━━━━━━━━\u001B[0m \u001B[32m41.5/41.5 kB\u001B[0m \u001B[31m3.4 MB/s\u001B[0m eta \u001B[36m0:00:00\u001B[0m\r\n",
      "\u001B[?25hCollecting pyflakes<2.6.0,>=2.5.0\r\n",
      "  Downloading pyflakes-2.5.0-py2.py3-none-any.whl (66 kB)\r\n",
      "\u001B[2K     \u001B[90m━━━━━━━━━━━━━━━━━━━━━━━━━━━━━━━━━━━━━━━━\u001B[0m \u001B[32m66.1/66.1 kB\u001B[0m \u001B[31m4.3 MB/s\u001B[0m eta \u001B[36m0:00:00\u001B[0m\r\n",
      "\u001B[?25hCollecting toml\r\n",
      "  Using cached toml-0.10.2-py2.py3-none-any.whl (16 kB)\r\n",
      "Requirement already satisfied: click>=7.1 in /Users/aleksandraradziwill/Library/Caches/pypoetry/virtualenvs/stretchme-8i33Dz8s-py3.9/lib/python3.9/site-packages (from interrogate->-r requirements/tests.txt (line 3)) (8.1.3)\r\n",
      "Requirement already satisfied: py in /Users/aleksandraradziwill/Library/Caches/pypoetry/virtualenvs/stretchme-8i33Dz8s-py3.9/lib/python3.9/site-packages (from interrogate->-r requirements/tests.txt (line 3)) (1.11.0)\r\n",
      "Requirement already satisfied: attrs in /Users/aleksandraradziwill/Library/Caches/pypoetry/virtualenvs/stretchme-8i33Dz8s-py3.9/lib/python3.9/site-packages (from interrogate->-r requirements/tests.txt (line 3)) (22.1.0)\r\n",
      "Collecting colorama\r\n",
      "  Downloading colorama-0.4.5-py2.py3-none-any.whl (16 kB)\r\n",
      "Collecting tabulate\r\n",
      "  Downloading tabulate-0.8.10-py3-none-any.whl (29 kB)\r\n",
      "Requirement already satisfied: more-itertools>=4.0.0 in /Users/aleksandraradziwill/Library/Caches/pypoetry/virtualenvs/stretchme-8i33Dz8s-py3.9/lib/python3.9/site-packages (from pytest->-r requirements/tests.txt (line 5)) (8.13.0)\r\n",
      "Requirement already satisfied: wcwidth in /Users/aleksandraradziwill/Library/Caches/pypoetry/virtualenvs/stretchme-8i33Dz8s-py3.9/lib/python3.9/site-packages (from pytest->-r requirements/tests.txt (line 5)) (0.2.5)\r\n",
      "Requirement already satisfied: pluggy<1.0,>=0.12 in /Users/aleksandraradziwill/Library/Caches/pypoetry/virtualenvs/stretchme-8i33Dz8s-py3.9/lib/python3.9/site-packages (from pytest->-r requirements/tests.txt (line 5)) (0.13.1)\r\n",
      "Collecting protobuf<=3.20.1,>=3.12.2\r\n",
      "  Downloading protobuf-3.20.1-cp39-cp39-macosx_10_9_x86_64.whl (962 kB)\r\n",
      "\u001B[2K     \u001B[90m━━━━━━━━━━━━━━━━━━━━━━━━━━━━━━━━━━━━━━━\u001B[0m \u001B[32m962.4/962.4 kB\u001B[0m \u001B[31m5.6 MB/s\u001B[0m eta \u001B[36m0:00:00\u001B[0ma \u001B[36m0:00:01\u001B[0m\r\n",
      "\u001B[?25hCollecting coloredlogs\r\n",
      "  Downloading coloredlogs-15.0.1-py2.py3-none-any.whl (46 kB)\r\n",
      "\u001B[2K     \u001B[90m━━━━━━━━━━━━━━━━━━━━━━━━━━━━━━━━━━━━━━━━\u001B[0m \u001B[32m46.0/46.0 kB\u001B[0m \u001B[31m3.4 MB/s\u001B[0m eta \u001B[36m0:00:00\u001B[0m\r\n",
      "\u001B[?25hCollecting flatbuffers\r\n",
      "  Downloading flatbuffers-2.0.7-py2.py3-none-any.whl (26 kB)\r\n",
      "Collecting sympy\r\n",
      "  Downloading sympy-1.11.1-py3-none-any.whl (6.5 MB)\r\n",
      "\u001B[2K     \u001B[90m━━━━━━━━━━━━━━━━━━━━━━━━━━━━━━━━━━━━━━━━\u001B[0m \u001B[32m6.5/6.5 MB\u001B[0m \u001B[31m6.1 MB/s\u001B[0m eta \u001B[36m0:00:00\u001B[0m00:01\u001B[0m00:01\u001B[0m\r\n",
      "\u001B[?25hCollecting motmetrics>=1.2\r\n",
      "  Downloading motmetrics-1.2.5-py3-none-any.whl (161 kB)\r\n",
      "\u001B[2K     \u001B[90m━━━━━━━━━━━━━━━━━━━━━━━━━━━━━━━━━━━━━━━\u001B[0m \u001B[32m161.1/161.1 kB\u001B[0m \u001B[31m1.3 MB/s\u001B[0m eta \u001B[36m0:00:00\u001B[0ma \u001B[36m0:00:01\u001B[0m\r\n",
      "\u001B[?25hCollecting shapely\r\n",
      "  Downloading Shapely-1.8.4-cp39-cp39-macosx_10_9_x86_64.whl (1.2 MB)\r\n",
      "\u001B[2K     \u001B[90m━━━━━━━━━━━━━━━━━━━━━━━━━━━━━━━━━━━━━━━━\u001B[0m \u001B[32m1.2/1.2 MB\u001B[0m \u001B[31m4.7 MB/s\u001B[0m eta \u001B[36m0:00:00\u001B[0ma \u001B[36m0:00:01\u001B[0m\r\n",
      "\u001B[?25hCollecting tqdm\r\n",
      "  Downloading tqdm-4.64.1-py2.py3-none-any.whl (78 kB)\r\n",
      "\u001B[2K     \u001B[90m━━━━━━━━━━━━━━━━━━━━━━━━━━━━━━━━━━━━━━━━\u001B[0m \u001B[32m78.5/78.5 kB\u001B[0m \u001B[31m4.8 MB/s\u001B[0m eta \u001B[36m0:00:00\u001B[0m\r\n",
      "\u001B[?25hCollecting networkx\r\n",
      "  Downloading networkx-2.8.6-py3-none-any.whl (2.0 MB)\r\n",
      "\u001B[2K     \u001B[90m━━━━━━━━━━━━━━━━━━━━━━━━━━━━━━━━━━━━━━━━\u001B[0m \u001B[32m2.0/2.0 MB\u001B[0m \u001B[31m4.3 MB/s\u001B[0m eta \u001B[36m0:00:00\u001B[0m00:01\u001B[0m00:01\u001B[0m\r\n",
      "\u001B[?25hCollecting freetype-py\r\n",
      "  Downloading freetype_py-2.3.0-py3-none-macosx_10_9_universal2.whl (1.7 MB)\r\n",
      "\u001B[2K     \u001B[90m━━━━━━━━━━━━━━━━━━━━━━━━━━━━━━━━━━━━━━━━\u001B[0m \u001B[32m1.7/1.7 MB\u001B[0m \u001B[31m3.5 MB/s\u001B[0m eta \u001B[36m0:00:00\u001B[0m00:01\u001B[0m00:01\u001B[0m\r\n",
      "\u001B[?25hCollecting PyOpenGL==3.1.0\r\n",
      "  Downloading PyOpenGL-3.1.0.zip (2.2 MB)\r\n",
      "\u001B[2K     \u001B[90m━━━━━━━━━━━━━━━━━━━━━━━━━━━━━━━━━━━━━━━━\u001B[0m \u001B[32m2.2/2.2 MB\u001B[0m \u001B[31m3.0 MB/s\u001B[0m eta \u001B[36m0:00:00\u001B[0m00:01\u001B[0m00:01\u001B[0m\r\n",
      "\u001B[?25h  Preparing metadata (setup.py) ... \u001B[?25ldone\r\n",
      "\u001B[?25hCollecting imageio\r\n",
      "  Downloading imageio-2.22.0-py3-none-any.whl (3.4 MB)\r\n",
      "\u001B[2K     \u001B[90m━━━━━━━━━━━━━━━━━━━━━━━━━━━━━━━━━━━━━━━━\u001B[0m \u001B[32m3.4/3.4 MB\u001B[0m \u001B[31m2.3 MB/s\u001B[0m eta \u001B[36m0:00:00\u001B[0m00:01\u001B[0m00:01\u001B[0m\r\n",
      "\u001B[?25hCollecting pyglet>=1.4.10\r\n",
      "  Downloading pyglet-1.5.27-py3-none-any.whl (1.1 MB)\r\n",
      "\u001B[2K     \u001B[90m━━━━━━━━━━━━━━━━━━━━━━━━━━━━━━━━━━━━━━━━\u001B[0m \u001B[32m1.1/1.1 MB\u001B[0m \u001B[31m2.6 MB/s\u001B[0m eta \u001B[36m0:00:00\u001B[0ma \u001B[36m0:00:01\u001B[0m\r\n",
      "\u001B[?25hRequirement already satisfied: certifi>=2017.4.17 in /Users/aleksandraradziwill/Library/Caches/pypoetry/virtualenvs/stretchme-8i33Dz8s-py3.9/lib/python3.9/site-packages (from requests->-r requirements/optional.txt (line 5)) (2022.6.15)\r\n",
      "Requirement already satisfied: urllib3<1.27,>=1.21.1 in /Users/aleksandraradziwill/Library/Caches/pypoetry/virtualenvs/stretchme-8i33Dz8s-py3.9/lib/python3.9/site-packages (from requests->-r requirements/optional.txt (line 5)) (1.26.11)\r\n",
      "Requirement already satisfied: charset-normalizer<3,>=2 in /Users/aleksandraradziwill/Library/Caches/pypoetry/virtualenvs/stretchme-8i33Dz8s-py3.9/lib/python3.9/site-packages (from requests->-r requirements/optional.txt (line 5)) (2.1.0)\r\n",
      "Requirement already satisfied: idna<4,>=2.5 in /Users/aleksandraradziwill/Library/Caches/pypoetry/virtualenvs/stretchme-8i33Dz8s-py3.9/lib/python3.9/site-packages (from requests->-r requirements/optional.txt (line 5)) (3.3)\r\n",
      "Collecting xmltodict>=0.12.0\r\n",
      "  Downloading xmltodict-0.13.0-py2.py3-none-any.whl (10.0 kB)\r\n",
      "Collecting pandas>=0.23.1\r\n",
      "  Downloading pandas-1.5.0-cp39-cp39-macosx_10_9_x86_64.whl (12.1 MB)\r\n",
      "\u001B[2K     \u001B[90m━━━━━━━━━━━━━━━━━━━━━━━━━━━━━━━━━━━━━━━━\u001B[0m \u001B[32m12.1/12.1 MB\u001B[0m \u001B[31m3.3 MB/s\u001B[0m eta \u001B[36m0:00:00\u001B[0m00:01\u001B[0m00:01\u001B[0m\r\n",
      "\u001B[?25hCollecting humanfriendly>=9.1\r\n",
      "  Downloading humanfriendly-10.0-py2.py3-none-any.whl (86 kB)\r\n",
      "\u001B[2K     \u001B[90m━━━━━━━━━━━━━━━━━━━━━━━━━━━━━━━━━━━━━━━━\u001B[0m \u001B[32m86.8/86.8 kB\u001B[0m \u001B[31m3.7 MB/s\u001B[0m eta \u001B[36m0:00:00\u001B[0m\r\n",
      "\u001B[?25hCollecting mpmath>=0.19\r\n",
      "  Downloading mpmath-1.2.1-py3-none-any.whl (532 kB)\r\n",
      "\u001B[2K     \u001B[90m━━━━━━━━━━━━━━━━━━━━━━━━━━━━━━━━━━━━━━━\u001B[0m \u001B[32m532.6/532.6 kB\u001B[0m \u001B[31m3.6 MB/s\u001B[0m eta \u001B[36m0:00:00\u001B[0ma \u001B[36m0:00:01\u001B[0m\r\n",
      "\u001B[?25hCollecting pytz>=2020.1\r\n",
      "  Downloading pytz-2022.2.1-py2.py3-none-any.whl (500 kB)\r\n",
      "\u001B[2K     \u001B[90m━━━━━━━━━━━━━━━━━━━━━━━━━━━━━━━━━━━━━━━\u001B[0m \u001B[32m500.6/500.6 kB\u001B[0m \u001B[31m3.7 MB/s\u001B[0m eta \u001B[36m0:00:00\u001B[0ma \u001B[36m0:00:01\u001B[0m\r\n",
      "\u001B[?25hBuilding wheels for collected packages: poseval, PyOpenGL\r\n",
      "  Building wheel for poseval (setup.py) ... \u001B[?25ldone\r\n",
      "\u001B[?25h  Created wheel for poseval: filename=poseval-0.1.0-py3-none-any.whl size=25962 sha256=4a0da8b2d8c21b4cb24d0d71d9c8aaee82d779207900eab70fca1a2c0ad65e8b\r\n",
      "  Stored in directory: /private/var/folders/k8/_v7pvhtn529ghxr64q_67hxw0000gn/T/pip-ephem-wheel-cache-un0xyekm/wheels/0f/4a/c4/17e52eb6f9f3371b8cf1863940bff5118b00875b66809f9f51\r\n",
      "  Building wheel for PyOpenGL (setup.py) ... \u001B[?25ldone\r\n",
      "\u001B[?25h  Created wheel for PyOpenGL: filename=PyOpenGL-3.1.0-py3-none-any.whl size=1745192 sha256=72b5ca2ae0c6958711a3c77d79933b8a014e95dd05bfd06d3db624e2820bd0e4\r\n",
      "  Stored in directory: /Users/aleksandraradziwill/Library/Caches/pip/wheels/ff/a0/d3/f562b4c97f9b23a5c28dc55a3586a2f5c1d8af766cd8d9bd3a\r\n",
      "Successfully built poseval PyOpenGL\r\n",
      "Installing collected packages: pytz, PyOpenGL, pyglet, mpmath, flatbuffers, xmltodict, xdoctest, trimesh, tqdm, toml, tabulate, sympy, shapely, pytest-runner, pyflakes, pycodestyle, protobuf, networkx, mccabe, isort, imageio, humanfriendly, freetype-py, coverage, colorama, smplx, pyrender, pandas, onnx, interrogate, flake8, coloredlogs, onnxruntime, motmetrics, poseval\r\n",
      "Successfully installed PyOpenGL-3.1.0 colorama-0.4.5 coloredlogs-15.0.1 coverage-6.4.4 flake8-5.0.4 flatbuffers-2.0.7 freetype-py-2.3.0 humanfriendly-10.0 imageio-2.22.0 interrogate-1.5.0 isort-4.3.21 mccabe-0.7.0 motmetrics-1.2.5 mpmath-1.2.1 networkx-2.8.6 onnx-1.12.0 onnxruntime-1.12.1 pandas-1.5.0 poseval-0.1.0 protobuf-3.20.1 pycodestyle-2.9.1 pyflakes-2.5.0 pyglet-1.5.27 pyrender-0.1.45 pytest-runner-6.0.0 pytz-2022.2.1 shapely-1.8.4 smplx-0.1.28 sympy-1.11.1 tabulate-0.8.10 toml-0.10.2 tqdm-4.64.1 trimesh-3.15.1 xdoctest-1.1.0 xmltodict-0.13.0\r\n",
      "\r\n",
      "\u001B[1m[\u001B[0m\u001B[34;49mnotice\u001B[0m\u001B[1;39;49m]\u001B[0m\u001B[39;49m A new release of pip available: \u001B[0m\u001B[31;49m22.2.1\u001B[0m\u001B[39;49m -> \u001B[0m\u001B[32;49m22.2.2\u001B[0m\r\n",
      "\u001B[1m[\u001B[0m\u001B[34;49mnotice\u001B[0m\u001B[1;39;49m]\u001B[0m\u001B[39;49m To update, run: \u001B[0m\u001B[32;49mpip install --upgrade pip\u001B[0m\r\n",
      "Obtaining file:///Users/aleksandraradziwill/Documents/stretchme/stretchme/mmpose\r\n",
      "  Preparing metadata (setup.py) ... \u001B[?25ldone\r\n",
      "\u001B[?25hRequirement already satisfied: chumpy in /Users/aleksandraradziwill/Library/Caches/pypoetry/virtualenvs/stretchme-8i33Dz8s-py3.9/lib/python3.9/site-packages (from mmpose==0.28.1) (0.70)\r\n",
      "Requirement already satisfied: json_tricks in /Users/aleksandraradziwill/Library/Caches/pypoetry/virtualenvs/stretchme-8i33Dz8s-py3.9/lib/python3.9/site-packages (from mmpose==0.28.1) (3.15.5)\r\n",
      "Requirement already satisfied: matplotlib in /Users/aleksandraradziwill/Library/Caches/pypoetry/virtualenvs/stretchme-8i33Dz8s-py3.9/lib/python3.9/site-packages (from mmpose==0.28.1) (3.5.2)\r\n",
      "Requirement already satisfied: munkres in /Users/aleksandraradziwill/Library/Caches/pypoetry/virtualenvs/stretchme-8i33Dz8s-py3.9/lib/python3.9/site-packages (from mmpose==0.28.1) (1.1.4)\r\n",
      "Requirement already satisfied: numpy in /Users/aleksandraradziwill/Library/Caches/pypoetry/virtualenvs/stretchme-8i33Dz8s-py3.9/lib/python3.9/site-packages (from mmpose==0.28.1) (1.23.1)\r\n",
      "Requirement already satisfied: opencv-python in /Users/aleksandraradziwill/Library/Caches/pypoetry/virtualenvs/stretchme-8i33Dz8s-py3.9/lib/python3.9/site-packages (from mmpose==0.28.1) (4.6.0.66)\r\n",
      "Requirement already satisfied: pillow in /Users/aleksandraradziwill/Library/Caches/pypoetry/virtualenvs/stretchme-8i33Dz8s-py3.9/lib/python3.9/site-packages (from mmpose==0.28.1) (9.2.0)\r\n",
      "Requirement already satisfied: scipy in /Users/aleksandraradziwill/Library/Caches/pypoetry/virtualenvs/stretchme-8i33Dz8s-py3.9/lib/python3.9/site-packages (from mmpose==0.28.1) (1.6.1)\r\n",
      "Requirement already satisfied: torchvision in /Users/aleksandraradziwill/Library/Caches/pypoetry/virtualenvs/stretchme-8i33Dz8s-py3.9/lib/python3.9/site-packages (from mmpose==0.28.1) (0.13.1)\r\n",
      "Requirement already satisfied: xtcocotools>=1.12 in /Users/aleksandraradziwill/Library/Caches/pypoetry/virtualenvs/stretchme-8i33Dz8s-py3.9/lib/python3.9/site-packages (from mmpose==0.28.1) (1.12)\r\n",
      "Requirement already satisfied: setuptools>=18.0 in /Users/aleksandraradziwill/Library/Caches/pypoetry/virtualenvs/stretchme-8i33Dz8s-py3.9/lib/python3.9/site-packages (from xtcocotools>=1.12->mmpose==0.28.1) (63.2.0)\r\n",
      "Requirement already satisfied: cython>=0.27.3 in /Users/aleksandraradziwill/Library/Caches/pypoetry/virtualenvs/stretchme-8i33Dz8s-py3.9/lib/python3.9/site-packages (from xtcocotools>=1.12->mmpose==0.28.1) (0.29.32)\r\n",
      "Requirement already satisfied: packaging>=20.0 in /Users/aleksandraradziwill/Library/Caches/pypoetry/virtualenvs/stretchme-8i33Dz8s-py3.9/lib/python3.9/site-packages (from matplotlib->mmpose==0.28.1) (21.3)\r\n",
      "Requirement already satisfied: pyparsing>=2.2.1 in /Users/aleksandraradziwill/Library/Caches/pypoetry/virtualenvs/stretchme-8i33Dz8s-py3.9/lib/python3.9/site-packages (from matplotlib->mmpose==0.28.1) (3.0.9)\r\n",
      "Requirement already satisfied: kiwisolver>=1.0.1 in /Users/aleksandraradziwill/Library/Caches/pypoetry/virtualenvs/stretchme-8i33Dz8s-py3.9/lib/python3.9/site-packages (from matplotlib->mmpose==0.28.1) (1.4.4)\r\n",
      "Requirement already satisfied: python-dateutil>=2.7 in /Users/aleksandraradziwill/Library/Caches/pypoetry/virtualenvs/stretchme-8i33Dz8s-py3.9/lib/python3.9/site-packages (from matplotlib->mmpose==0.28.1) (2.8.2)\r\n",
      "Requirement already satisfied: fonttools>=4.22.0 in /Users/aleksandraradziwill/Library/Caches/pypoetry/virtualenvs/stretchme-8i33Dz8s-py3.9/lib/python3.9/site-packages (from matplotlib->mmpose==0.28.1) (4.34.4)\r\n",
      "Requirement already satisfied: cycler>=0.10 in /Users/aleksandraradziwill/Library/Caches/pypoetry/virtualenvs/stretchme-8i33Dz8s-py3.9/lib/python3.9/site-packages (from matplotlib->mmpose==0.28.1) (0.11.0)\r\n",
      "Requirement already satisfied: six>=1.11.0 in /Users/aleksandraradziwill/Library/Caches/pypoetry/virtualenvs/stretchme-8i33Dz8s-py3.9/lib/python3.9/site-packages (from chumpy->mmpose==0.28.1) (1.16.0)\r\n",
      "Requirement already satisfied: torch==1.12.1 in /Users/aleksandraradziwill/Library/Caches/pypoetry/virtualenvs/stretchme-8i33Dz8s-py3.9/lib/python3.9/site-packages (from torchvision->mmpose==0.28.1) (1.12.1)\r\n",
      "Requirement already satisfied: requests in /Users/aleksandraradziwill/Library/Caches/pypoetry/virtualenvs/stretchme-8i33Dz8s-py3.9/lib/python3.9/site-packages (from torchvision->mmpose==0.28.1) (2.28.1)\r\n",
      "Requirement already satisfied: typing-extensions in /Users/aleksandraradziwill/Library/Caches/pypoetry/virtualenvs/stretchme-8i33Dz8s-py3.9/lib/python3.9/site-packages (from torchvision->mmpose==0.28.1) (4.3.0)\r\n",
      "Requirement already satisfied: idna<4,>=2.5 in /Users/aleksandraradziwill/Library/Caches/pypoetry/virtualenvs/stretchme-8i33Dz8s-py3.9/lib/python3.9/site-packages (from requests->torchvision->mmpose==0.28.1) (3.3)\r\n",
      "Requirement already satisfied: certifi>=2017.4.17 in /Users/aleksandraradziwill/Library/Caches/pypoetry/virtualenvs/stretchme-8i33Dz8s-py3.9/lib/python3.9/site-packages (from requests->torchvision->mmpose==0.28.1) (2022.6.15)\r\n",
      "Requirement already satisfied: urllib3<1.27,>=1.21.1 in /Users/aleksandraradziwill/Library/Caches/pypoetry/virtualenvs/stretchme-8i33Dz8s-py3.9/lib/python3.9/site-packages (from requests->torchvision->mmpose==0.28.1) (1.26.11)\r\n",
      "Requirement already satisfied: charset-normalizer<3,>=2 in /Users/aleksandraradziwill/Library/Caches/pypoetry/virtualenvs/stretchme-8i33Dz8s-py3.9/lib/python3.9/site-packages (from requests->torchvision->mmpose==0.28.1) (2.1.0)\r\n",
      "Installing collected packages: mmpose\r\n",
      "  Attempting uninstall: mmpose\r\n",
      "    Found existing installation: mmpose 0.20.0\r\n",
      "    Uninstalling mmpose-0.20.0:\r\n",
      "      Successfully uninstalled mmpose-0.20.0\r\n",
      "  Running setup.py develop for mmpose\r\n",
      "Successfully installed mmpose-0.28.1\r\n",
      "\r\n",
      "\u001B[1m[\u001B[0m\u001B[34;49mnotice\u001B[0m\u001B[1;39;49m]\u001B[0m\u001B[39;49m A new release of pip available: \u001B[0m\u001B[31;49m22.2.1\u001B[0m\u001B[39;49m -> \u001B[0m\u001B[32;49m22.2.2\u001B[0m\r\n",
      "\u001B[1m[\u001B[0m\u001B[34;49mnotice\u001B[0m\u001B[1;39;49m]\u001B[0m\u001B[39;49m To update, run: \u001B[0m\u001B[32;49mpip install --upgrade pip\u001B[0m\r\n"
     ]
    }
   ],
   "source": [
    "# install mmpose dependencies\n",
    "!pip install -r requirements.txt\n",
    "\n",
    "# install mmpose in develop mode\n",
    "!pip install -e ."
   ],
   "metadata": {
    "collapsed": false,
    "pycharm": {
     "name": "#%%\n"
    }
   }
  },
  {
   "cell_type": "code",
   "execution_count": 16,
   "outputs": [
    {
     "ename": "ImportError",
     "evalue": "cannot import name 'collect_multi_frames' from 'mmpose.apis' (/Users/aleksandraradziwill/Library/Caches/pypoetry/virtualenvs/stretchme-8i33Dz8s-py3.9/lib/python3.9/site-packages/mmpose/apis/__init__.py)",
     "output_type": "error",
     "traceback": [
      "\u001B[0;31m---------------------------------------------------------------------------\u001B[0m",
      "\u001B[0;31mImportError\u001B[0m                               Traceback (most recent call last)",
      "Input \u001B[0;32mIn [16]\u001B[0m, in \u001B[0;36m<cell line: 12>\u001B[0;34m()\u001B[0m\n\u001B[1;32m      9\u001B[0m \u001B[38;5;28;01mimport\u001B[39;00m \u001B[38;5;21;01mmmcv\u001B[39;00m\n\u001B[1;32m     10\u001B[0m \u001B[38;5;28;01mimport\u001B[39;00m \u001B[38;5;21;01mnumpy\u001B[39;00m \u001B[38;5;28;01mas\u001B[39;00m \u001B[38;5;21;01mnp\u001B[39;00m\n\u001B[0;32m---> 12\u001B[0m \u001B[38;5;28;01mfrom\u001B[39;00m \u001B[38;5;21;01mmmpose\u001B[39;00m\u001B[38;5;21;01m.\u001B[39;00m\u001B[38;5;21;01mapis\u001B[39;00m \u001B[38;5;28;01mimport\u001B[39;00m (collect_multi_frames, extract_pose_sequence,\n\u001B[1;32m     13\u001B[0m                          get_track_id, inference_pose_lifter_model,\n\u001B[1;32m     14\u001B[0m                          inference_top_down_pose_model, init_pose_model,\n\u001B[1;32m     15\u001B[0m                          process_mmdet_results, vis_3d_pose_result,\n\u001B[1;32m     16\u001B[0m                          vis_pose_result)\n\u001B[1;32m     17\u001B[0m \u001B[38;5;28;01mfrom\u001B[39;00m \u001B[38;5;21;01mmmpose\u001B[39;00m\u001B[38;5;21;01m.\u001B[39;00m\u001B[38;5;21;01mcore\u001B[39;00m \u001B[38;5;28;01mimport\u001B[39;00m Smoother\n\u001B[1;32m     18\u001B[0m \u001B[38;5;28;01mfrom\u001B[39;00m \u001B[38;5;21;01mmmpose\u001B[39;00m\u001B[38;5;21;01m.\u001B[39;00m\u001B[38;5;21;01mdatasets\u001B[39;00m \u001B[38;5;28;01mimport\u001B[39;00m DatasetInfo\n",
      "\u001B[0;31mImportError\u001B[0m: cannot import name 'collect_multi_frames' from 'mmpose.apis' (/Users/aleksandraradziwill/Library/Caches/pypoetry/virtualenvs/stretchme-8i33Dz8s-py3.9/lib/python3.9/site-packages/mmpose/apis/__init__.py)"
     ]
    }
   ],
   "source": [
    "# Copyright (c) OpenMMLab. All rights reserved.\n",
    "import copy\n",
    "import os\n",
    "import os.path as osp\n",
    "import warnings\n",
    "from argparse import ArgumentParser\n",
    "\n",
    "import cv2\n",
    "import mmcv\n",
    "import numpy as np\n",
    "\n",
    "from mmpose.apis import (collect_multi_frames, extract_pose_sequence,\n",
    "                         get_track_id, inference_pose_lifter_model,\n",
    "                         inference_top_down_pose_model, init_pose_model,\n",
    "                         process_mmdet_results, vis_3d_pose_result,\n",
    "                         vis_pose_result)\n",
    "from mmpose.core import Smoother\n",
    "from mmpose.datasets import DatasetInfo\n",
    "from mmpose.models import PoseLifter, TopDown\n",
    "\n",
    "try:\n",
    "    from mmdet.apis import inference_detector, init_detector\n",
    "\n",
    "    has_mmdet = True\n",
    "except (ImportError, ModuleNotFoundError):\n",
    "    has_mmdet = False"
   ],
   "metadata": {
    "collapsed": false,
    "pycharm": {
     "name": "#%%\n"
    }
   }
  },
  {
   "cell_type": "code",
   "execution_count": 1,
   "outputs": [],
   "source": [
    "import pandas as pd"
   ],
   "metadata": {
    "collapsed": false,
    "pycharm": {
     "name": "#%%\n"
    }
   }
  },
  {
   "cell_type": "code",
   "execution_count": 3,
   "outputs": [
    {
     "name": "stdout",
     "output_type": "stream",
     "text": [
      "Hello world\n"
     ]
    }
   ],
   "source": [
    "print(\"Hello world\")"
   ],
   "metadata": {
    "collapsed": false,
    "pycharm": {
     "name": "#%%\n"
    }
   }
  },
  {
   "cell_type": "code",
   "execution_count": null,
   "outputs": [],
   "source": [],
   "metadata": {
    "collapsed": false,
    "pycharm": {
     "name": "#%%\n"
    }
   }
  }
 ],
 "metadata": {
  "kernelspec": {
   "display_name": "Python 3",
   "language": "python",
   "name": "python3"
  },
  "language_info": {
   "codemirror_mode": {
    "name": "ipython",
    "version": 2
   },
   "file_extension": ".py",
   "mimetype": "text/x-python",
   "name": "python",
   "nbconvert_exporter": "python",
   "pygments_lexer": "ipython2",
   "version": "2.7.6"
  }
 },
 "nbformat": 4,
 "nbformat_minor": 0
}